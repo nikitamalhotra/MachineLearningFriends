{
 "cells": [
  {
   "cell_type": "code",
   "execution_count": 13,
   "metadata": {},
   "outputs": [
    {
     "name": "stdout",
     "output_type": "stream",
     "text": [
      "y = 0.605263157894737 x + 0.26315789473684204\n"
     ]
    },
    {
     "data": {
      "image/png": "[encoded data removed]",
      "text/plain": [
       "<Figure size 432x288 with 1 Axes>"
      ]
     },
     "metadata": {
      "needs_background": "light"
     },
     "output_type": "display_data"
    }
   ],
   "source": [
    "# problem 1\n",
    "\n",
    "#y=ax+c\n",
    "#a= (n(suma)xy - (suma)x(suma)y) / (n(suma)x^2 - (suma)^2) (for short :  SSxy / SSxx)\n",
    "#c== (1/n)((suma)y - a (suma)x)   \n",
    "# the above formulas were derived in: https://www.amherst.edu/system/files/media/1287/SLR_Leastsquares.pdf\n",
    "\n",
    "# given data points : (-2 , -1) , (1 , 1) , (3 , 2)\n",
    "\n",
    "# Find the least square regression line for the given data points.\n",
    "# Plot the given points and the regression line in the same rectangular system of axes. \n",
    "\n",
    "import numpy as np \n",
    "import matplotlib.pyplot as plt \n",
    "\n",
    "x = np.array([-2,1,3]) \n",
    "y = np.array([-1,1,2]) \n",
    "\n",
    "n = np.size(x) \n",
    "meanx, meany = np.mean(x), np.mean(y) \n",
    "\n",
    "SS_xy = np.sum(y*x) - n*meany*meanx \n",
    "SS_xx = np.sum(x*x) - n*meanx*meanx \n",
    "\n",
    "a = SS_xy / SS_xx \n",
    "c = meany - a*meanx \n",
    "\n",
    "print(\"y = {} x + {}\".format(a, c))\n",
    "\n",
    "\n",
    "# now that we have equation lets plot our regression line\n",
    "\n",
    "plt.scatter(x, y, color = \"m\",marker = \"o\", s = 30) \n",
    "  \n",
    "y_pred = a*x + c\n",
    "\n",
    "plt.plot(x, y_pred, color = \"g\") \n",
    "\n",
    "plt.xlabel('x') \n",
    "plt.ylabel('y') \n",
    "\n",
    "plt.show() \n"
   ]
  },
  {
   "cell_type": "code",
   "execution_count": 14,
   "metadata": {},
   "outputs": [
    {
     "name": "stdout",
     "output_type": "stream",
     "text": [
      "y = 1.7 x + 1.9\n"
     ]
    },
    {
     "data": {
      "image/png": "[encoded data removed]",
      "text/plain": [
       "<Figure size 432x288 with 1 Axes>"
      ]
     },
     "metadata": {
      "needs_background": "light"
     },
     "output_type": "display_data"
    }
   ],
   "source": [
    "# problem 2\n",
    "\n",
    "#y=ax+c\n",
    "#a= (n(suma)xy - (suma)x(suma)y) / (n(suma)x^2 - (suma)^2) (for short :  SSxy / SSxx)\n",
    "#c== (1/n)((suma)y - a (suma)x)   \n",
    "# the above formulas were derived in: https://www.amherst.edu/system/files/media/1287/SLR_Leastsquares.pdf\n",
    "\n",
    "# given data points : (-1 , 0),(0 , 2),(1 , 4),(2 , 5)\n",
    "\n",
    "# Find the least square regression line for the given data points.\n",
    "# Plot the given points and the regression line in the same rectangular system of axes. \n",
    "\n",
    "\n",
    "import numpy as np \n",
    "import matplotlib.pyplot as plt \n",
    "\n",
    "x = np.array([-1,0,1,2]) \n",
    "y = np.array([0,2,4,5]) \n",
    "\n",
    "n = np.size(x) \n",
    "meanx, meany = np.mean(x), np.mean(y) \n",
    "\n",
    "SS_xy = np.sum(y*x) - n*meany*meanx \n",
    "SS_xx = np.sum(x*x) - n*meanx*meanx \n",
    "\n",
    "a = SS_xy / SS_xx \n",
    "c = meany - a*meanx \n",
    "\n",
    "print(\"y = {} x + {}\".format(a, c))\n",
    "\n",
    "\n",
    "# now that we have equation lets plot our regression line\n",
    "\n",
    "plt.scatter(x, y, color = \"m\",marker = \"o\", s = 30) \n",
    "  \n",
    "y_pred = a*x + c\n",
    "\n",
    "plt.plot(x, y_pred, color = \"g\") \n",
    "\n",
    "plt.xlabel('x') \n",
    "plt.ylabel('y') \n",
    "\n",
    "plt.show() "
   ]
  },
  {
   "cell_type": "code",
   "execution_count": 15,
   "metadata": {},
   "outputs": [
    {
     "name": "stdout",
     "output_type": "stream",
     "text": [
      "y = 0.9 x + 2.2\n",
      "calculated coefficients:\n",
      "y =11.2\n"
     ]
    }
   ],
   "source": [
    "# problem 3\n",
    "\n",
    "#y=ax+c\n",
    "#a= (n(suma)xy - (suma)x(suma)y) / (n(suma)x^2 - (suma)^2) (for short :  SSxy / SSxx)\n",
    "#c== (1/n)((suma)y - a (suma)x)   \n",
    "# the above formulas were derived in: https://www.amherst.edu/system/files/media/1287/SLR_Leastsquares.pdf\n",
    "\n",
    "# given data points : (0 , 2),(1 , 3),(2 , 5),(3 , 4),(4 , 6)\n",
    "\n",
    "# Find the least square regression line for the given data points.\n",
    "# Estimate the value of y when x = 10. \n",
    "\n",
    "import numpy as np \n",
    "import matplotlib.pyplot as plt \n",
    "\n",
    "x = np.array([0,1,2,3,4]) \n",
    "y = np.array([2,3,5,4,6]) \n",
    "\n",
    "n = np.size(x) \n",
    "meanx, meany = np.mean(x), np.mean(y) \n",
    "\n",
    "SS_xy = np.sum(y*x) - n*meany*meanx \n",
    "SS_xx = np.sum(x*x) - n*meanx*meanx \n",
    "\n",
    "a = SS_xy / SS_xx \n",
    "c = meany - a*meanx \n",
    "\n",
    "print(\"y = {} x + {}\".format(a, c))\n",
    "\n",
    "\n",
    "# now find y for x=10\n",
    "  \n",
    "y_pred = a*10 + c\n",
    "print(\"calculated coefficients:\\ny ={}\".format(y_pred))\n"
   ]
  },
  {
   "cell_type": "code",
   "execution_count": 17,
   "metadata": {},
   "outputs": [
    {
     "name": "stdout",
     "output_type": "stream",
     "text": [
      "y = 8.4 x + -16830.399999999998\n",
      "calculated coefficients:\n",
      "sales ->  y =70.40000000000146\n"
     ]
    }
   ],
   "source": [
    "# problem 4\n",
    "\n",
    "#y=ax+c\n",
    "#a= (n(suma)xy - (suma)x(suma)y) / (n(suma)x^2 - (suma)^2) (for short :  SSxy / SSxx)\n",
    "#c== (1/n)((suma)y - a (suma)x)   \n",
    "# the above formulas were derived in: https://www.amherst.edu/system/files/media/1287/SLR_Leastsquares.pdf\n",
    "\n",
    "# given data points : (0 , 2),(1 , 3),(2 , 5),(3 , 4),(4 , 6)\n",
    "\n",
    "# Find the least square regression line for the given data points.\n",
    "# Estimate the value of y when x = 10. \n",
    "\n",
    "import numpy as np \n",
    "import matplotlib.pyplot as plt \n",
    "\n",
    "x = np.array([2005,2006,2007,2008,2009]) \n",
    "y = np.array([12,19,29,37,45]) \n",
    "\n",
    "n = np.size(x) \n",
    "meanx, meany = np.mean(x), np.mean(y) \n",
    "\n",
    "SS_xy = np.sum(y*x) - n*meany*meanx \n",
    "SS_xx = np.sum(x*x) - n*meanx*meanx \n",
    "\n",
    "a = SS_xy / SS_xx \n",
    "c = meany - a*meanx \n",
    "\n",
    "print(\"y = {} x + {}\".format(a, c))\n",
    "\n",
    "\n",
    "# now find y for x=10\n",
    "  \n",
    "y_pred = a*2012 + c\n",
    "print(\"calculated coefficients:\\nsales in 2012 ->  y ={}\".format(y_pred))\n"
   ]
  },
  {
   "cell_type": "code",
   "execution_count": null,
   "metadata": {},
   "outputs": [],
   "source": []
  }
 ],
 "metadata": {
  "kernelspec": {
   "display_name": "Python 3",
   "language": "python",
   "name": "python3"
  },
  "language_info": {
   "codemirror_mode": {
    "name": "ipython",
    "version": 3
   },
   "file_extension": ".py",
   "mimetype": "text/x-python",
   "name": "python",
   "nbconvert_exporter": "python",
   "pygments_lexer": "ipython3",
   "version": "3.7.0"
  }
 },
 "nbformat": 4,
 "nbformat_minor": 2
}
