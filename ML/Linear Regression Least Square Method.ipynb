{
 "cells": [
  {
   "cell_type": "markdown",
   "metadata": {},
   "source": [
    "Problem 1: \n",
    "Consider the following set of points: {(-2 , -1) , (1 , 1) , (3 , 2)} \n",
    "a) Find the least square regression line for the given data points. \n",
    "b) Plot the given points and the regression line in the same rectangular system of axes. \n",
    "\n",
    "Problem 2:\n",
    "a) Find the least square regression line for the following set of data\n",
    "{(-1 , 0),(0 , 2),(1 , 4),(2 , 5)}\n",
    "b) Plot the given points and the regression line in the same rectangular system of axes. \n",
    "\n",
    "Problem 3:\n",
    "The values of y and their corresponding values of y are shown in the table below \n",
    "x  0  1  2  3  4\n",
    "y  2  3  5  4  6\n",
    "\n",
    "a) Find the least square regression line y = a x + b. \n",
    "b) Estimate the value of y when x = 10.\n",
    "\n",
    "Problem 4:\n",
    "The sales of a company (in million dollars) for each year are shown in the table below. \n",
    "x (year)  2005  2006  2007  2008  2009\n",
    "y (sales)  12  19  29  37  45\n",
    "\n",
    "a) Find the least square regression line y = a x + b. \n",
    "b) Use the least squares regression line as a model to estimate the sales of the company in 2012."
   ]
  },
  {
   "cell_type": "code",
   "execution_count": 8,
   "metadata": {},
   "outputs": [],
   "source": [
    "# Problem 1\n",
    "# Step 1: Import the required libraries \n",
    "import numpy as np\n",
    "import pandas as pd\n",
    "import matplotlib.pyplot as plt"
   ]
  },
  {
   "cell_type": "code",
   "execution_count": 9,
   "metadata": {},
   "outputs": [
    {
     "name": "stdout",
     "output_type": "stream",
     "text": [
      "(3, 2)\n",
      "   datapoint1  datapoint2\n",
      "0          -2          -1\n",
      "1           1           1\n",
      "2           3           2\n"
     ]
    }
   ],
   "source": [
    "# Step 2: Import the data set\n",
    "# Reading Data\n",
    "df = pd.read_csv('Assignment1.csv')\n",
    "print(df.shape)\n",
    "print(df.head())"
   ]
  },
  {
   "cell_type": "code",
   "execution_count": 10,
   "metadata": {
    "scrolled": true
   },
   "outputs": [
    {
     "name": "stdout",
     "output_type": "stream",
     "text": [
      "[-2  1  3]\n",
      "[-1  1  2]\n"
     ]
    }
   ],
   "source": [
    "# Step 3: Assigning ‘X’ as independent variable and ‘Y’ as dependent variable\n",
    "X = df['datapoint1'].values\n",
    "y = df['datapoint2'].values\n",
    "print(X)\n",
    "print(y)"
   ]
  },
  {
   "cell_type": "code",
   "execution_count": 11,
   "metadata": {},
   "outputs": [
    {
     "name": "stdout",
     "output_type": "stream",
     "text": [
      "0.6666666666666666\n",
      "0.6666666666666666\n",
      "3\n"
     ]
    }
   ],
   "source": [
    "# To calculate the slope and y-intercept we first need to compute the means of ‘x’ and ‘y’. This can be done as shown below:\n",
    "# Mean X and y\n",
    "mean_x = np.mean(X)\n",
    "mean_y = np.mean(y)\n",
    "print(mean_x)\n",
    "print(mean_y)\n",
    "\n",
    "# Total number of values\n",
    "n = len(X)\n",
    "print(n)"
   ]
  },
  {
   "cell_type": "code",
   "execution_count": 12,
   "metadata": {},
   "outputs": [
    {
     "name": "stdout",
     "output_type": "stream",
     "text": [
      "Coefficients\n",
      "0.6052631578947367 0.26315789473684215\n",
      "y prediction\n",
      "[-0.94736842  0.86842105  2.07894737]\n"
     ]
    }
   ],
   "source": [
    "# Step 4: Calculate the values of the slope and y-intercept\n",
    "# Using the formula to calculate 'm' and 'c'\n",
    "numer = 0\n",
    "denom = 0\n",
    "for i in range(n):\n",
    "    numer += (X[i] - mean_x) * (y[i] - mean_y)\n",
    "    denom += (X[i] - mean_x) ** 2\n",
    "    m = numer / denom\n",
    "    c = mean_y - (m * mean_x)\n",
    "print(\"Coefficients\")\n",
    "print(m, c)\n",
    "# Making Predictions\n",
    "y_pred = m*X+c\n",
    "print(\"y prediction\")\n",
    "print(y_pred)"
   ]
  },
  {
   "cell_type": "code",
   "execution_count": 14,
   "metadata": {},
   "outputs": [
    {
     "data": {
      "image/png": "[encoded data removed]",
      "text/plain": [
       "<Figure size 432x288 with 1 Axes>"
      ]
     },
     "metadata": {
      "needs_background": "light"
     },
     "output_type": "display_data"
    }
   ],
   "source": [
    "# Step 5: Plotting the line of best fit\n",
    "plt.scatter(X,y)\n",
    "plt.plot([min(X),max(X)],[min(y_pred),max(y_pred)],color='red')\n",
    "plt.show()"
   ]
  },
  {
   "cell_type": "markdown",
   "metadata": {},
   "source": [
    "Problem 2:\n",
    "a) Find the least square regression line for the following set of data\n",
    "{(-1 , 0),(0 , 2),(1 , 4),(2 , 5)}\n",
    "b) Plot the given points and the regression line in the same rectangular system of axes."
   ]
  },
  {
   "cell_type": "code",
   "execution_count": 56,
   "metadata": {},
   "outputs": [],
   "source": [
    "# Problem 2\n",
    "# Step 1: Import the required libraries \n",
    "import numpy as np\n",
    "import pandas as pd\n",
    "import matplotlib.pyplot as plt"
   ]
  },
  {
   "cell_type": "code",
   "execution_count": 58,
   "metadata": {},
   "outputs": [
    {
     "name": "stdout",
     "output_type": "stream",
     "text": [
      "(3, 2)\n",
      "   -1  0\n",
      "0   0  2\n",
      "1   1  4\n",
      "2   2  5\n"
     ]
    }
   ],
   "source": [
    "# Step 2: Import the data set\n",
    "# Reading Data\n",
    "df = pd.read_csv('Assignment2.csv')\n",
    "print(df.shape)\n",
    "print(df.head())"
   ]
  },
  {
   "cell_type": "code",
   "execution_count": 59,
   "metadata": {},
   "outputs": [
    {
     "name": "stdout",
     "output_type": "stream",
     "text": [
      "[0 1 2]\n",
      "[2 4 5]\n"
     ]
    }
   ],
   "source": [
    "# Step 3: Assigning ‘X’ as independent variable and ‘Y’ as dependent variable\n",
    "X = df.iloc[:,0].values\n",
    "y = df.iloc[:,1].values\n",
    "print(X)\n",
    "print(y)"
   ]
  },
  {
   "cell_type": "code",
   "execution_count": 65,
   "metadata": {},
   "outputs": [
    {
     "name": "stdout",
     "output_type": "stream",
     "text": [
      "1.0\n",
      "3.6666666666666665\n"
     ]
    }
   ],
   "source": [
    "# To calculate the slope and y-intercept we first need to compute the means of ‘x’ and ‘y’. This can be done as shown below:\n",
    "# Mean X and y\n",
    "mean_x = np.mean(X)\n",
    "mean_y = np.mean(y)\n",
    "print(mean_x)\n",
    "print(mean_y)"
   ]
  },
  {
   "cell_type": "code",
   "execution_count": 64,
   "metadata": {},
   "outputs": [
    {
     "name": "stdout",
     "output_type": "stream",
     "text": [
      "Coefficients\n",
      "1.5 2.1666666666666665\n",
      "y prediction\n",
      "[2.16666667 3.66666667 5.16666667]\n"
     ]
    }
   ],
   "source": [
    "# Step 4: Calculate the values of the slope and y-intercept\n",
    "# Using the formula to calculate 'm' and 'c'\n",
    "numer = 0\n",
    "denom = 0\n",
    "for i in range(len(X)):\n",
    "    numer += (X[i] - mean_x) * (y[i] - mean_y)\n",
    "    denom += (X[i] - mean_x) ** 2\n",
    "    m = numer / denom\n",
    "    c = mean_y - (m * mean_x)\n",
    "print(\"Coefficients\")\n",
    "print(m, c)\n",
    "# Making Predictions\n",
    "y_pred = m*X+c\n",
    "print(\"y prediction\")\n",
    "print(y_pred)"
   ]
  },
  {
   "cell_type": "code",
   "execution_count": 67,
   "metadata": {},
   "outputs": [
    {
     "data": {
      "image/png": "[encoded data removed]",
      "text/plain": [
       "<Figure size 432x288 with 1 Axes>"
      ]
     },
     "metadata": {
      "needs_background": "light"
     },
     "output_type": "display_data"
    }
   ],
   "source": [
    "# Step 5: Plotting the line of best fit\n",
    "plt.scatter(X,y)\n",
    "plt.plot([min(X),max(X)],[min(y_pred),max(y_pred)],color='green')\n",
    "plt.show()"
   ]
  },
  {
   "cell_type": "markdown",
   "metadata": {},
   "source": [
    "Problem 3:\n",
    "The values of y and their corresponding values of y are shown in the table below \n",
    "x  0  1  2  3  4\n",
    "y  2  3  5  4  6\n",
    "\n",
    "a) Find the least square regression line y = a x + b. \n",
    "b) Estimate the value of y when x = 10."
   ]
  },
  {
   "cell_type": "code",
   "execution_count": 69,
   "metadata": {},
   "outputs": [],
   "source": [
    "# Problem 3\n",
    "# Step 1: Import the required libraries \n",
    "import numpy as np\n",
    "import pandas as pd\n",
    "import matplotlib.pyplot as plt"
   ]
  },
  {
   "cell_type": "code",
   "execution_count": 70,
   "metadata": {},
   "outputs": [
    {
     "name": "stdout",
     "output_type": "stream",
     "text": [
      "(5, 2)\n",
      "   x  y \n",
      "0  0   2\n",
      "1  1   3\n",
      "2  2   5\n",
      "3  3   4\n",
      "4  4   6\n"
     ]
    }
   ],
   "source": [
    "# Step 2: Import the data set\n",
    "# Reading Data\n",
    "df = pd.read_csv('Assignment3.csv')\n",
    "print(df.shape)\n",
    "print(df.head())"
   ]
  },
  {
   "cell_type": "code",
   "execution_count": 71,
   "metadata": {},
   "outputs": [
    {
     "name": "stdout",
     "output_type": "stream",
     "text": [
      "[0 1 2 3 4]\n",
      "[2 3 5 4 6]\n"
     ]
    }
   ],
   "source": [
    "# Step 3: Assigning ‘X’ as independent variable and ‘Y’ as dependent variable\n",
    "X = df.iloc[:,0].values\n",
    "y = df.iloc[:,1].values\n",
    "print(X)\n",
    "print(y)"
   ]
  },
  {
   "cell_type": "code",
   "execution_count": 72,
   "metadata": {},
   "outputs": [
    {
     "name": "stdout",
     "output_type": "stream",
     "text": [
      "2.0\n",
      "4.0\n"
     ]
    }
   ],
   "source": [
    "# To calculate the slope and y-intercept we first need to compute the means of ‘x’ and ‘y’. This can be done as shown below:\n",
    "# Mean X and y\n",
    "mean_x = np.mean(X)\n",
    "mean_y = np.mean(y)\n",
    "print(mean_x)\n",
    "print(mean_y)"
   ]
  },
  {
   "cell_type": "code",
   "execution_count": 73,
   "metadata": {},
   "outputs": [
    {
     "name": "stdout",
     "output_type": "stream",
     "text": [
      "Coefficients\n",
      "0.9 2.2\n",
      "y prediction\n",
      "[2.2 3.1 4.  4.9 5.8]\n"
     ]
    }
   ],
   "source": [
    "# Step 4: Calculate the values of the slope and y-intercept\n",
    "# Using the formula to calculate 'm' and 'c'\n",
    "numer = 0\n",
    "denom = 0\n",
    "for i in range(len(X)):\n",
    "    numer += (X[i] - mean_x) * (y[i] - mean_y)\n",
    "    denom += (X[i] - mean_x) ** 2\n",
    "    m = numer / denom\n",
    "    c = mean_y - (m * mean_x)\n",
    "print(\"Coefficients\")\n",
    "print(m, c)\n",
    "# Making Predictions\n",
    "y_pred = m*X+c\n",
    "print(\"y prediction\")\n",
    "print(y_pred)"
   ]
  },
  {
   "cell_type": "code",
   "execution_count": 76,
   "metadata": {},
   "outputs": [
    {
     "data": {
      "image/png": "[encoded data removed]",
      "text/plain": [
       "<Figure size 432x288 with 1 Axes>"
      ]
     },
     "metadata": {
      "needs_background": "light"
     },
     "output_type": "display_data"
    }
   ],
   "source": [
    "# Step 5: Plotting the line of best fit\n",
    "plt.scatter(X,y)\n",
    "plt.plot([min(X),max(X)],[min(y_pred),max(y_pred)],color='orange')\n",
    "plt.show()"
   ]
  },
  {
   "cell_type": "code",
   "execution_count": 80,
   "metadata": {},
   "outputs": [
    {
     "name": "stdout",
     "output_type": "stream",
     "text": [
      "y\n",
      "11.2\n"
     ]
    }
   ],
   "source": [
    "#  Estimate the value of y when x = 10\n",
    "X=10\n",
    "y = m*X+c\n",
    "print(\"y\")\n",
    "print(y)"
   ]
  },
  {
   "cell_type": "markdown",
   "metadata": {},
   "source": [
    "Problem 4:\n",
    "The sales of a company (in million dollars) for each year are shown in the table below. \n",
    "x (year)  2005  2006  2007  2008  2009\n",
    "y (sales)  12  19  29  37  45\n",
    "\n",
    "a) Find the least square regression line y = a x + b. \n",
    "b) Use the least squares regression line as a model to estimate the sales of the company in 2012"
   ]
  },
  {
   "cell_type": "code",
   "execution_count": 17,
   "metadata": {},
   "outputs": [],
   "source": [
    "# Problem 4\n",
    "# Step 1: Import the required libraries \n",
    "import numpy as np\n",
    "import pandas as pd\n",
    "import matplotlib.pyplot as plt"
   ]
  },
  {
   "cell_type": "code",
   "execution_count": 18,
   "metadata": {},
   "outputs": [
    {
     "name": "stdout",
     "output_type": "stream",
     "text": [
      "(5, 2)\n",
      "   x (year)  y (sales)\n",
      "0      2005         12\n",
      "1      2006         19\n",
      "2      2007         29\n",
      "3      2008         37\n",
      "4      2009         45\n"
     ]
    }
   ],
   "source": [
    "# Step 2: Import the data set\n",
    "# Reading Data\n",
    "df = pd.read_csv('Assignment4.csv')\n",
    "print(df.shape)\n",
    "print(df.head())"
   ]
  },
  {
   "cell_type": "code",
   "execution_count": 19,
   "metadata": {},
   "outputs": [
    {
     "name": "stdout",
     "output_type": "stream",
     "text": [
      "[2005 2006 2007 2008 2009]\n",
      "[12 19 29 37 45]\n"
     ]
    }
   ],
   "source": [
    "# Step 3: Assigning ‘X’ as independent variable and ‘Y’ as dependent variable\n",
    "X = df.iloc[:,0].values\n",
    "y = df.iloc[:,1].values\n",
    "print(X)\n",
    "print(y)"
   ]
  },
  {
   "cell_type": "code",
   "execution_count": 20,
   "metadata": {},
   "outputs": [
    {
     "name": "stdout",
     "output_type": "stream",
     "text": [
      "2007.0\n",
      "28.4\n"
     ]
    }
   ],
   "source": [
    "# To calculate the slope and y-intercept we first need to compute the means of ‘x’ and ‘y’. This can be done as shown below:\n",
    "# Mean X and y\n",
    "mean_x = np.mean(X)\n",
    "mean_y = np.mean(y)\n",
    "print(mean_x)\n",
    "print(mean_y)"
   ]
  },
  {
   "cell_type": "code",
   "execution_count": 21,
   "metadata": {},
   "outputs": [
    {
     "name": "stdout",
     "output_type": "stream",
     "text": [
      "Coefficients\n",
      "8.4 -16830.399999999998\n",
      "y prediction\n",
      "[11.6 20.  28.4 36.8 45.2]\n"
     ]
    }
   ],
   "source": [
    "# Step 4: Calculate the values of the slope and y-intercept\n",
    "# Using the formula to calculate 'm' and 'c'\n",
    "numer = 0\n",
    "denom = 0\n",
    "for i in range(len(X)):\n",
    "    numer += (X[i] - mean_x) * (y[i] - mean_y)\n",
    "    denom += (X[i] - mean_x) ** 2\n",
    "    m = numer / denom\n",
    "    c = mean_y - (m * mean_x)\n",
    "print(\"Coefficients\")\n",
    "print(m, c)\n",
    "# Making Predictions\n",
    "y_pred = m*X+c\n",
    "print(\"y prediction\")\n",
    "print(y_pred)"
   ]
  },
  {
   "cell_type": "code",
   "execution_count": 22,
   "metadata": {},
   "outputs": [
    {
     "data": {
      "image/png": "[encoded data removed]",
      "text/plain": [
       "<Figure size 432x288 with 1 Axes>"
      ]
     },
     "metadata": {
      "needs_background": "light"
     },
     "output_type": "display_data"
    }
   ],
   "source": [
    "# Step 5: Plotting the line of best fit\n",
    "plt.scatter(X,y)\n",
    "plt.plot([min(X),max(X)],[min(y_pred),max(y_pred)],color='orange')\n",
    "plt.show()"
   ]
  },
  {
   "cell_type": "code",
   "execution_count": 25,
   "metadata": {},
   "outputs": [
    {
     "name": "stdout",
     "output_type": "stream",
     "text": [
      "7\n",
      "70.4\n"
     ]
    }
   ],
   "source": [
    "X = 2012-2005\n",
    "print(X)\n",
    "m= 8.4 # taken from above\n",
    "c = 11.6 # taken from above\n",
    "y=m*X+c\n",
    "print(y)"
   ]
  },
  {
   "cell_type": "code",
   "execution_count": null,
   "metadata": {},
   "outputs": [],
   "source": []
  }
 ],
 "metadata": {
  "kernelspec": {
   "display_name": "Python 3",
   "language": "python",
   "name": "python3"
  },
  "language_info": {
   "codemirror_mode": {
    "name": "ipython",
    "version": 3
   },
   "file_extension": ".py",
   "mimetype": "text/x-python",
   "name": "python",
   "nbconvert_exporter": "python",
   "pygments_lexer": "ipython3",
   "version": "3.7.3"
  }
 },
 "nbformat": 4,
 "nbformat_minor": 2
}
